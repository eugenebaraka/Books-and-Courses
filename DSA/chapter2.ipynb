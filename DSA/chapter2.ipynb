{
 "cells": [
  {
   "cell_type": "markdown",
   "metadata": {},
   "source": [
    "## Chapter 2. List-based collections"
   ]
  },
  {
   "cell_type": "markdown",
   "metadata": {},
   "source": [
    "Collections: \n",
    "- no inherent order\n",
    "- not a specific type of objects\n",
    "\n",
    "## Lists\n",
    "- objects have an order (doesn't mean much)\n",
    "- not same type of objects\n",
    "\n",
    "### Arrays\n",
    "- most common implementation of lists\n",
    "- a list with a few added rules (has some order) --> can contain same or different types of objects depending on a programming language\n",
    "- Each array has an index contrary to a list (?)\n",
    "- Insertion and deletion can be messy (especially when you want to move it in the middle --> pretty difficult and inneficient when you are inserting in the middle since you'll have to move elements after the inserted element back into differnt boxes/indeces) --> takes linear time (big O(n))\n",
    "\n",
    "- using python, a list is built as an array behind the scene. \n",
    "- Even though you can do many operations on a Python list with just one line of code, there's a lot of code built in to the Python language running to make that operation possible.\n",
    "\n",
    "- Inserting an element into an array is O(n) since you may need to shift elements to make space for it, or even copy the whole array to a new one if run out of space. **Therefore, inserting in python is actually O(n)**. However, *operations that search for a particular element (indexing) are O(1)*\n",
    "\n",
    "\n",
    "Here's [a very handy page](https://wiki.python.org/moin/TimeComplexity) for time complexities in pyton\n",
    "\n",
    "\n",
    "NOTE: Python, being a \"higher level\" programing language, can allow you to do things with just a few lines of code, but its infracture is build with a lot of code, which can cause it to actually run very slowly. Keep this in your mind while writing code in Python\n",
    "\n",
    "SUMMARY (SO FAR): \n",
    "- A list in python is built on top of an array, so they behave almost the same\n",
    "- The largest time complexity cost comes from growing a list beyond its originally allocated size (i.e., moving items, inserting, deleting). Modifying (moving, deleting, inserting) objects in at the beginning of the list will have the largest cost because that means every item after that must move, in terms of index. \n",
    "\n",
    "The runtime of finding the length of a pythong list should be O(1) since it doesn't change the indexing of elements within the list"
   ]
  },
  {
   "cell_type": "markdown",
   "metadata": {},
   "source": [
    "### Linked lists\n",
    "- an extension of a list as well\n",
    "- have an order but no indeces\n",
    "- each element has some notion of what the next element is but not necessarily how long it is. In an array, contrary, you know what the next element by its index\n",
    "- Adding and removing elements in a linked list is way easier than in an array\n",
    "\n",
    "\n",
    "There's usually not a difference between linked list and arrays in high level programming languages, python included in those. \n",
    "\n",
    "In a linked list, we store a reference to the next element in the list. One element is storing the memory address of the next element. the last element's reference will be null because it doesn't point to anything else. \n",
    "\n",
    "ADVANTAGE: *easy to add or remove elements*. easy to change reference to the next element. [quick trick: if you delete the next reference to replace with a new object, you will lose your reference to the old one. assign your new object a reference first and procede to the previous one]. This takes constant time O(1)"
   ]
  },
  {
   "cell_type": "code",
   "execution_count": null,
   "metadata": {},
   "outputs": [],
   "source": [
    "\"\"\"The LinkedList code from before is provided below.\n",
    "Add three functions to the LinkedList.\n",
    "\"get_position\" returns the element at a certain position.\n",
    "The \"insert\" function will add an element to a particular\n",
    "spot in the list.\n",
    "\"delete\" will delete the first element with that\n",
    "particular value.\n",
    "Then, use \"Test Run\" and \"Submit\" to run the test cases\n",
    "at the bottom.\"\"\"\n",
    "\n",
    "class Element(object):\n",
    "    def __init__(self, value):\n",
    "        self.value = value\n",
    "        self.next = None\n",
    "        \n",
    "class LinkedList(object):\n",
    "    def __init__(self, head=None):\n",
    "        self.head = head\n",
    "        \n",
    "    def append(self, new_element):\n",
    "        current = self.head\n",
    "        if self.head:\n",
    "            while current.next:\n",
    "                current = current.next\n",
    "            current.next = new_element\n",
    "        else:\n",
    "            self.head = new_element\n",
    "            \n",
    "    def get_position(self, position):\n",
    "        \"\"\"Get an element from a particular position.\n",
    "        Assume the first position is \"1\".\n",
    "        Return \"None\" if position is not in the list.\"\"\"\n",
    "        return None\n",
    "    \n",
    "    def insert(self, new_element, position):\n",
    "        \"\"\"Insert a new node at the given position.\n",
    "        Assume the first position is \"1\".\n",
    "        Inserting at position 3 means between\n",
    "        the 2nd and 3rd elements.\"\"\"\n",
    "        pass\n",
    "    \n",
    "    \n",
    "    def delete(self, value):\n",
    "        \"\"\"Delete the first node with a given value.\"\"\"\n",
    "        pass"
   ]
  }
 ],
 "metadata": {
  "language_info": {
   "name": "python"
  },
  "orig_nbformat": 4
 },
 "nbformat": 4,
 "nbformat_minor": 2
}
