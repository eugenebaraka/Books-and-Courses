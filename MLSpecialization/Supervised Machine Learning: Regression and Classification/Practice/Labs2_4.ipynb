{
 "cells": [
  {
   "cell_type": "code",
   "execution_count": 2,
   "metadata": {},
   "outputs": [],
   "source": [
    "import copy, math\n",
    "import numpy as np\n",
    "import matplotlib.pyplot as plt\n",
    "# plt.style.use('./deeplearning.mplstyle')\n",
    "np.set_printoptions(precision=2)  # reduced display precision on numpy arrays"
   ]
  },
  {
   "cell_type": "code",
   "execution_count": 3,
   "metadata": {},
   "outputs": [],
   "source": [
    "X_train = np.array([[2104, 5, 1, 45], [1416, 3, 2, 40], [852, 2, 1, 35]])\n",
    "y_train = np.array([460, 232, 178])"
   ]
  },
  {
   "cell_type": "code",
   "execution_count": 4,
   "metadata": {},
   "outputs": [
    {
     "data": {
      "text/plain": [
       "array([[2104,    5,    1,   45],\n",
       "       [1416,    3,    2,   40],\n",
       "       [ 852,    2,    1,   35]])"
      ]
     },
     "execution_count": 4,
     "metadata": {},
     "output_type": "execute_result"
    }
   ],
   "source": [
    "# data with four features and three training examples\n",
    "X_train"
   ]
  },
  {
   "cell_type": "code",
   "execution_count": 5,
   "metadata": {},
   "outputs": [
    {
     "data": {
      "text/plain": [
       "array([460, 232, 178])"
      ]
     },
     "execution_count": 5,
     "metadata": {},
     "output_type": "execute_result"
    }
   ],
   "source": [
    "# response variable for training examples\n",
    "y_train"
   ]
  },
  {
   "attachments": {},
   "cell_type": "markdown",
   "metadata": {},
   "source": [
    "Let's assume we have some initial values below:"
   ]
  },
  {
   "cell_type": "code",
   "execution_count": 12,
   "metadata": {},
   "outputs": [
    {
     "name": "stdout",
     "output_type": "stream",
     "text": [
      "459.9999976194083\n"
     ]
    }
   ],
   "source": [
    "b_init = 785.1811367994083\n",
    "w_init = np.array([ 0.39133535, 18.75376741, -53.36032453, -26.42131618])\n",
    "\n",
    "# prediction function\n",
    "\n",
    "def predict_single_example(w:np.array, x:np.array, b:float):\n",
    "    \"\"\"\n",
    "    Prediction for one row\n",
    "\n",
    "    Args:\n",
    "        w: parameter w\n",
    "        x: one row to get prediction for\n",
    "        b: bias\n",
    "\n",
    "    Returns:\n",
    "        p: prediction\n",
    "    \"\"\"\n",
    "    n = x.shape[0]\n",
    "\n",
    "    p = 0\n",
    "\n",
    "    for i in range(n):\n",
    "        p_i = w[i] * x[i]\n",
    "        p += p_i\n",
    "\n",
    "    p = p + b\n",
    "\n",
    "    return p\n",
    "\n",
    "\n",
    "print(predict_single_example(w_init, X_train[0,:], b_init))"
   ]
  },
  {
   "cell_type": "code",
   "execution_count": 19,
   "metadata": {},
   "outputs": [
    {
     "name": "stdout",
     "output_type": "stream",
     "text": [
      "459.9999976194083\n"
     ]
    }
   ],
   "source": [
    "# use dot product\n",
    "def predict_single_example(w, x, b):\n",
    "    return np.dot(w, x) + b\n",
    "\n",
    "print(predict_single_example(w_init, X_train[0,:], b_init))"
   ]
  },
  {
   "cell_type": "code",
   "execution_count": 24,
   "metadata": {},
   "outputs": [
    {
     "name": "stdout",
     "output_type": "stream",
     "text": [
      "1.5578904045996674e-12\n"
     ]
    }
   ],
   "source": [
    "# Compute cost\n",
    "def cost_fun(w, X, b, y):\n",
    "\n",
    "    n = X.shape[0]\n",
    "\n",
    "    cost = 0\n",
    "\n",
    "    for i in range(n):\n",
    "        f_wb = np.dot(X[i], w) + b\n",
    "        cost += (f_wb - y[i])**2\n",
    "\n",
    "    cost = cost/(2*n)\n",
    "    return cost\n",
    "\n",
    "print(cost_fun(w=w_init, X=X_train, b=b_init, y=y_train))"
   ]
  },
  {
   "cell_type": "code",
   "execution_count": null,
   "metadata": {},
   "outputs": [],
   "source": []
  }
 ],
 "metadata": {
  "kernelspec": {
   "display_name": "Python 3",
   "language": "python",
   "name": "python3"
  },
  "language_info": {
   "codemirror_mode": {
    "name": "ipython",
    "version": 3
   },
   "file_extension": ".py",
   "mimetype": "text/x-python",
   "name": "python",
   "nbconvert_exporter": "python",
   "pygments_lexer": "ipython3",
   "version": "3.9.13"
  },
  "orig_nbformat": 4
 },
 "nbformat": 4,
 "nbformat_minor": 2
}
