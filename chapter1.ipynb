{
 "cells": [
  {
   "cell_type": "markdown",
   "metadata": {},
   "source": [
    "## Chapter 1. Efficiency"
   ]
  },
  {
   "cell_type": "markdown",
   "metadata": {},
   "source": [
    "Time efficiency and space efficiency: what's important? is the time to run more efficient or the space of your code?\n",
    "\n",
    "### Big O notation\n",
    "\n",
    "O(n)\n",
    "\n",
    "Iterating over 26 letters (A-Z), the efficiency can be calculated as O(26n + 2)"
   ]
  },
  {
   "cell_type": "code",
   "execution_count": null,
   "metadata": {},
   "outputs": [],
   "source": [
    "\"\"\"input manatees: a list of \"manatees\", where one manatee is represented by a dictionary\n",
    "a single manatee has properties like \"name\", \"age\", et cetera\n",
    "n = the number of elements in \"manatees\"\n",
    "m = the number of properties per \"manatee\" (i.e. the number of keys in a manatee dictionary)\"\"\"\n",
    "\n",
    "def example1(manatees):\n",
    "    for manatee in manatees:\n",
    "        print manatee['name'] \n",
    "\n",
    "        ----> O(n)\n",
    "\n",
    "def example2(manatees):\n",
    "    print manatees[0]['name']\n",
    "    print manatees[0]['age']\n",
    "\n",
    "        -----> O(1)\n",
    "\n",
    "def example3(manatees):\n",
    "    for manatee in manatees:\n",
    "        for manatee_property in manatee:\n",
    "            print manatee_property, \": \", manatee[manatee_property]\n",
    "\n",
    "        ------> O(n*m)\n",
    "\n",
    "def example4(manatees):\n",
    "    oldest_manatee = \"No manatees here!\"\n",
    "    for manatee1 in manatees:\n",
    "        for manatee2 in manatees:\n",
    "            if manatee1['age'] < manatee2['age']:\n",
    "                oldest_manatee = manatee2['name']\n",
    "            else:\n",
    "                oldest_manatee = manatee1['name']\n",
    "    print oldest_manatee\n",
    "\n",
    "\n",
    "        ----> O(n^2)"
   ]
  },
  {
   "cell_type": "markdown",
   "metadata": {},
   "source": [
    "[Big-O complexities Cheat Sheet](https://www.bigocheatsheet.com)"
   ]
  }
 ],
 "metadata": {
  "language_info": {
   "name": "python"
  },
  "orig_nbformat": 4
 },
 "nbformat": 4,
 "nbformat_minor": 2
}
