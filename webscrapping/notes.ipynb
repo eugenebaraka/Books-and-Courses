{
 "cells": [
  {
   "cell_type": "markdown",
   "metadata": {},
   "source": [
    "GET request: a request to fetch, or “get,” the content of a web page"
   ]
  },
  {
   "cell_type": "code",
   "execution_count": 31,
   "metadata": {},
   "outputs": [],
   "source": [
    "from urllib.request import urlopen\n",
    "from urllib.error import HTTPError\n",
    "from urllib.error import URLError\n",
    "from bs4 import BeautifulSoup\n"
   ]
  },
  {
   "cell_type": "code",
   "execution_count": 32,
   "metadata": {},
   "outputs": [
    {
     "name": "stdout",
     "output_type": "stream",
     "text": [
      "<h1>An Interesting Title</h1>\n"
     ]
    }
   ],
   "source": [
    "html = urlopen('http://pythonscraping.com/pages/page1.html')\n",
    "bs = BeautifulSoup(html.read(), 'html.parser')\n",
    "print(bs.h1)"
   ]
  },
  {
   "cell_type": "markdown",
   "metadata": {},
   "source": [
    "## Chapter 1"
   ]
  },
  {
   "cell_type": "code",
   "execution_count": 33,
   "metadata": {},
   "outputs": [
    {
     "name": "stdout",
     "output_type": "stream",
     "text": [
      "<body>\n",
      "<h1>An Interesting Title</h1>\n",
      "<div>\n",
      "Lorem ipsum dolor sit amet, consectetur adipisicing elit, sed do eiusmod tempor incididunt ut labore et dolore magna aliqua. Ut enim ad minim veniam, quis nostrud exercitation ullamco laboris nisi ut aliquip ex ea commodo consequat. Duis aute irure dolor in reprehenderit in voluptate velit esse cillum dolore eu fugiat nulla pariatur. Excepteur sint occaecat cupidatat non proident, sunt in culpa qui officia deserunt mollit anim id est laborum.\n",
      "</div>\n",
      "</body>\n"
     ]
    }
   ],
   "source": [
    "html = urlopen('http://pythonscraping.com/pages/page1.html')\n",
    "bs = BeautifulSoup(html, 'html.parser')\n",
    "print(bs.body)"
   ]
  },
  {
   "cell_type": "code",
   "execution_count": 34,
   "metadata": {},
   "outputs": [
    {
     "name": "stdout",
     "output_type": "stream",
     "text": [
      "b'<html>\\n<head>\\n<title>A Useful Page</title>\\n</head>\\n<body>\\n<h1>An Interesting Title</h1>\\n<div>\\nLorem ipsum dolor sit amet, consectetur adipisicing elit, sed do eiusmod tempor incididunt ut labore et dolore magna aliqua. Ut enim ad minim veniam, quis nostrud exercitation ullamco laboris nisi ut aliquip ex ea commodo consequat. Duis aute irure dolor in reprehenderit in voluptate velit esse cillum dolore eu fugiat nulla pariatur. Excepteur sint occaecat cupidatat non proident, sunt in culpa qui officia deserunt mollit anim id est laborum.\\n</div>\\n</body>\\n</html>\\n'\n"
     ]
    }
   ],
   "source": [
    "html = urlopen('http://pythonscraping.com/pages/page1.html')\n",
    "print(html.read())"
   ]
  },
  {
   "cell_type": "markdown",
   "metadata": {},
   "source": [
    "## ERRORS"
   ]
  },
  {
   "cell_type": "code",
   "execution_count": 35,
   "metadata": {},
   "outputs": [
    {
     "name": "stdout",
     "output_type": "stream",
     "text": [
      "It worked!\n"
     ]
    }
   ],
   "source": [
    "try:\n",
    "    html = urlopen('http://pythonscraping.com/pages/page1.html')\n",
    "except HTTPError as e:\n",
    "    print(e)\n",
    "except URLError as e: \n",
    "    print(\"The serve could not be found\")\n",
    "else:\n",
    "    print(\"It worked!\")"
   ]
  },
  {
   "cell_type": "markdown",
   "metadata": {},
   "source": [
    "It is important to know how to handle errors. There are two types of errors: HTTP errors and exceptions. **HTTP errors are returned by the server**, and exceptions are raised by the requests library. It is smart to add a check to make sure the tag exists before trying to access it."
   ]
  },
  {
   "cell_type": "code",
   "execution_count": 36,
   "metadata": {},
   "outputs": [
    {
     "name": "stdout",
     "output_type": "stream",
     "text": [
      "<h1>An Interesting Title</h1>\n"
     ]
    }
   ],
   "source": [
    "def getTitle(url):\n",
    "    try:\n",
    "        html = urlopen(url)\n",
    "    except HTTPError as e:\n",
    "        return None\n",
    "    try: \n",
    "        bs = BeautifulSoup(html.read(), 'html.parser')\n",
    "        title = bs.body.h1\n",
    "    except AttributeError as e:\n",
    "        return None\n",
    "\n",
    "    return title\n",
    "\n",
    "title = getTitle(url='http://www.pythonscraping.com/pages/page1.html')\n",
    "if title == None:\n",
    "    print(\"Title could not be found\")\n",
    "else:\n",
    "    print(title)"
   ]
  },
  {
   "cell_type": "markdown",
   "metadata": {},
   "source": [
    "## Chapter 2. Advanced HTML Parsing"
   ]
  },
  {
   "cell_type": "code",
   "execution_count": 37,
   "metadata": {},
   "outputs": [],
   "source": [
    "# bs.find_all('table')[4].find_all('tr')[2].find('td').find_all('div')[1].find('a')"
   ]
  },
  {
   "cell_type": "code",
   "execution_count": 38,
   "metadata": {},
   "outputs": [
    {
     "name": "stdout",
     "output_type": "stream",
     "text": [
      "Anna\n",
      "Pavlovna Scherer\n",
      "Empress Marya\n",
      "Fedorovna\n",
      "Prince Vasili Kuragin\n",
      "Anna Pavlovna\n",
      "St. Petersburg\n",
      "the prince\n",
      "Anna Pavlovna\n",
      "Anna Pavlovna\n",
      "the prince\n",
      "the prince\n",
      "the prince\n",
      "Prince Vasili\n",
      "Anna Pavlovna\n",
      "Anna Pavlovna\n",
      "the prince\n",
      "Wintzingerode\n",
      "King of Prussia\n",
      "le Vicomte de Mortemart\n",
      "Montmorencys\n",
      "Rohans\n",
      "Abbe Morio\n",
      "the Emperor\n",
      "the prince\n",
      "Prince Vasili\n",
      "Dowager Empress Marya Fedorovna\n",
      "the baron\n",
      "Anna Pavlovna\n",
      "the Empress\n",
      "the Empress\n",
      "Anna Pavlovna's\n",
      "Her Majesty\n",
      "Baron\n",
      "Funke\n",
      "The prince\n",
      "Anna\n",
      "Pavlovna\n",
      "the Empress\n",
      "The prince\n",
      "Anatole\n",
      "the prince\n",
      "The prince\n",
      "Anna\n",
      "Pavlovna\n",
      "Anna Pavlovna\n"
     ]
    }
   ],
   "source": [
    "from urllib.request import urlopen\n",
    "from bs4 import BeautifulSoup\n",
    "\n",
    "html = urlopen(url=\"https://www.pythonscraping.com/pages/warandpeace.html\")\n",
    "bs = BeautifulSoup(html, \"html.parser\")\n",
    "nameList = bs.findAll('span', {'class':['green']})\n",
    "\n",
    "for name in nameList:\n",
    "    print(name.get_text()) # this method is used to get only the text from a beautifulsoup object"
   ]
  },
  {
   "cell_type": "code",
   "execution_count": 39,
   "metadata": {},
   "outputs": [
    {
     "data": {
      "text/plain": [
       "<html>\n",
       "<head>\n",
       "<style>\n",
       ".green{\n",
       "\tcolor:#55ff55;\n",
       "}\n",
       ".red{\n",
       "\tcolor:#ff5555;\n",
       "}\n",
       "#text{\n",
       "\twidth:50%;\n",
       "}\n",
       "</style>\n",
       "</head>\n",
       "<body>\n",
       "<h1>War and Peace</h1>\n",
       "<h2>Chapter 1</h2>\n",
       "<div id=\"text\">\n",
       "\"<span class=\"red\">Well, Prince, so Genoa and Lucca are now just family estates of the\n",
       "Buonapartes. But I warn you, if you don't tell me that this means war,\n",
       "if you still try to defend the infamies and horrors perpetrated by\n",
       "that Antichrist- I really believe he is Antichrist- I will have\n",
       "nothing more to do with you and you are no longer my friend, no longer\n",
       "my 'faithful slave,' as you call yourself! But how do you do? I see\n",
       "I have frightened you- sit down and tell me all the news.</span>\"\n",
       "<p></p>\n",
       "It was in July, 1805, and the speaker was the well-known <span class=\"green\">Anna\n",
       "Pavlovna Scherer</span>, maid of honor and favorite of the <span class=\"green\">Empress Marya\n",
       "Fedorovna</span>. With these words she greeted <span class=\"green\">Prince Vasili Kuragin</span>, a man\n",
       "of high rank and importance, who was the first to arrive at her\n",
       "reception. <span class=\"green\">Anna Pavlovna</span> had had a cough for some days. She was, as\n",
       "she said, suffering from la grippe; grippe being then a new word in\n",
       "<span class=\"green\">St. Petersburg</span>, used only by the elite.\n",
       "<p></p>\n",
       "All her invitations without exception, written in French, and\n",
       "delivered by a scarlet-liveried footman that morning, ran as follows:\n",
       "<p></p>\n",
       "\"<span class=\"red\">If you have nothing better to do, Count [or Prince], and if the\n",
       "prospect of spending an evening with a poor invalid is not too\n",
       "terrible, I shall be very charmed to see you tonight between 7 and 10-\n",
       "Annette Scherer.</span>\"\n",
       "<p></p>\n",
       "\"<span class=\"red\">Heavens! what a virulent attack!</span>\" replied <span class=\"green\">the prince</span>, not in the\n",
       "least disconcerted by this reception. He had just entered, wearing\n",
       "an embroidered court uniform, knee breeches, and shoes, and had\n",
       "stars on his breast and a serene expression on his flat face. He spoke\n",
       "in that refined French in which our grandfathers not only spoke but\n",
       "thought, and with the gentle, patronizing intonation natural to a\n",
       "man of importance who had grown old in society and at court. He went\n",
       "up to <span class=\"green\">Anna Pavlovna</span>, kissed her hand, presenting to her his bald,\n",
       "scented, and shining head, and complacently seated himself on the\n",
       "sofa.\n",
       "<p></p>\n",
       "\"<span class=\"red\">First of all, dear friend, tell me how you are. Set your friend's\n",
       "mind at rest,</span>\" said he without altering his tone, beneath the\n",
       "politeness and affected sympathy of which indifference and even\n",
       "irony could be discerned.\n",
       "<p></p>\n",
       "\"<span class=\"red\">Can one be well while suffering morally? Can one be calm in times\n",
       "like these if one has any feeling?</span>\" said <span class=\"green\">Anna Pavlovna</span>. \"<span class=\"red\">You are\n",
       "staying the whole evening, I hope?</span>\"\n",
       "<p></p>\n",
       "\"<span class=\"red\">And the fete at the English ambassador's? Today is Wednesday. I\n",
       "must put in an appearance there,</span>\" said <span class=\"green\">the prince</span>. \"<span class=\"red\">My daughter is\n",
       "coming for me to take me there.</span>\"\n",
       "<p></p>\n",
       "\"<span class=\"red\">I thought today's fete had been canceled. I confess all these\n",
       "festivities and fireworks are becoming wearisome.</span>\"\n",
       "<p></p>\n",
       "\"<span class=\"red\">If they had known that you wished it, the entertainment would\n",
       "have been put off,</span>\" said <span class=\"green\">the prince</span>, who, like a wound-up clock, by\n",
       "force of habit said things he did not even wish to be believed.\n",
       "<p></p>\n",
       "\"<span class=\"red\">Don't tease! Well, and what has been decided about Novosiltsev's\n",
       "dispatch? You know everything.</span>\"\n",
       "<p></p>\n",
       "\"<span class=\"red\">What can one say about it?</span>\" replied <span class=\"green\">the prince</span> in a cold,\n",
       "listless tone. \"<span class=\"red\">What has been decided? They have decided that\n",
       "Buonaparte has burnt his boats, and I believe that we are ready to\n",
       "burn ours.</span>\"\n",
       "<p></p>\n",
       "<span class=\"green\">Prince Vasili</span> always spoke languidly, like an actor repeating a\n",
       "stale part. <span class=\"green\">Anna Pavlovna</span> Scherer on the contrary, despite her forty\n",
       "years, overflowed with animation and impulsiveness. To be an\n",
       "enthusiast had become her social vocation and, sometimes even when she\n",
       "did not feel like it, she became enthusiastic in order not to\n",
       "disappoint the expectations of those who knew her. The subdued smile\n",
       "which, though it did not suit her faded features, always played\n",
       "round her lips expressed, as in a spoiled child, a continual\n",
       "consciousness of her charming defect, which she neither wished, nor\n",
       "could, nor considered it necessary, to correct.\n",
       "<p></p>\n",
       "In the midst of a conversation on political matters <span class=\"green\">Anna Pavlovna</span>\n",
       "burst out:\n",
       "<p></p>\n",
       "\"<span class=\"red\">Oh, don't speak to me of Austria. Perhaps I don't understand\n",
       "things, but Austria never has wished, and does not wish, for war.\n",
       "She is betraying us! Russia alone must save Europe. Our gracious\n",
       "sovereign recognizes his high vocation and will be true to it. That is\n",
       "the one thing I have faith in! Our good and wonderful sovereign has to\n",
       "perform the noblest role on earth, and he is so virtuous and noble\n",
       "that God will not forsake him. He will fulfill his vocation and\n",
       "crush the hydra of revolution, which has become more terrible than\n",
       "ever in the person of this murderer and villain! We alone must\n",
       "avenge the blood of the just one.... Whom, I ask you, can we rely\n",
       "on?... England with her commercial spirit will not and cannot\n",
       "understand the Emperor Alexander's loftiness of soul. She has\n",
       "refused to evacuate Malta. She wanted to find, and still seeks, some\n",
       "secret motive in our actions. What answer did Novosiltsev get? None.\n",
       "The English have not understood and cannot understand the\n",
       "self-abnegation of our Emperor who wants nothing for himself, but only\n",
       "desires the good of mankind. And what have they promised? Nothing! And\n",
       "what little they have promised they will not perform! Prussia has\n",
       "always declared that Buonaparte is invincible, and that all Europe\n",
       "is powerless before him.... And I don't believe a word that Hardenburg\n",
       "says, or Haugwitz either. This famous Prussian neutrality is just a\n",
       "trap. I have faith only in God and the lofty destiny of our adored\n",
       "monarch. He will save Europe!</span>\"\n",
       "<p></p>\n",
       "She suddenly paused, smiling at her own impetuosity.\n",
       "<p></p>\n",
       "\"<span class=\"red\">I think,</span>\" said <span class=\"green\">the prince</span> with a smile, \"<span class=\"red\">that if you had been\n",
       "sent instead of our dear <span class=\"green\">Wintzingerode</span> you would have captured the\n",
       "<span class=\"green\">King of Prussia</span>'s consent by assault. You are so eloquent. Will you\n",
       "give me a cup of tea?</span>\"\n",
       "<p></p>\n",
       "\"<span class=\"red\">In a moment. A propos,</span>\" she added, becoming calm again, \"<span class=\"red\">I am\n",
       "expecting two very interesting men tonight, <span class=\"green\">le Vicomte de Mortemart</span>,\n",
       "who is connected with the <span class=\"green\">Montmorencys</span> through the <span class=\"green\">Rohans</span>, one of\n",
       "the best French families. He is one of the genuine emigres, the good\n",
       "ones. And also the <span class=\"green\">Abbe Morio</span>. Do you know that profound thinker? He\n",
       "has been received by <span class=\"green\">the Emperor</span>. Had you heard?</span>\"\n",
       "<p></p>\n",
       "\"<span class=\"red\">I shall be delighted to meet them,</span>\" said <span class=\"green\">the prince</span>. \"<span class=\"red\">But tell me,</span>\"\n",
       "he added with studied carelessness as if it had only just occurred\n",
       "to him, though the question he was about to ask was the chief motive\n",
       "of his visit, \"<span class=\"red\">is it true that the Dowager Empress wants Baron Funke\n",
       "to be appointed first secretary at Vienna? The baron by all accounts\n",
       "is a poor creature.</span>\"\n",
       "<p></p>\n",
       "<span class=\"green\">Prince Vasili</span> wished to obtain this post for his son, but others\n",
       "were trying through the <span class=\"green\">Dowager Empress Marya Fedorovna</span> to secure it\n",
       "for <span class=\"green\">the baron</span>.\n",
       "<p></p>\n",
       "<span class=\"green\">Anna Pavlovna</span> almost closed her eyes to indicate that neither she\n",
       "nor anyone else had a right to criticize what <span class=\"green\">the Empress</span> desired or\n",
       "was pleased with.\n",
       "<p></p>\n",
       "\"<span class=\"red\">Baron Funke has been recommended to the Dowager Empress by her\n",
       "sister,</span>\" was all she said, in a dry and mournful tone.\n",
       "<p></p>\n",
       "As she named <span class=\"green\">the Empress</span>, <span class=\"green\">Anna Pavlovna's</span> face suddenly assumed an\n",
       "expression of profound and sincere devotion and respect mingled with\n",
       "sadness, and this occurred every time she mentioned her illustrious\n",
       "patroness. She added that <span class=\"green\">Her Majesty</span> had deigned to show <span class=\"green\">Baron\n",
       "Funke</span>, and again her face clouded over with sadness.\n",
       "<p></p>\n",
       "<span class=\"green\">The prince</span> was silent and looked indifferent. But, with the\n",
       "womanly and courtierlike quickness and tact habitual to her, <span class=\"green\">Anna\n",
       "Pavlovna</span> wished both to rebuke him (for daring to speak he had done of\n",
       "a man recommended to <span class=\"green\">the Empress</span>) and at the same time to console him,\n",
       "so she said:\n",
       "<p></p>\n",
       "\"<span class=\"red\">Now about your family. Do you know that since your daughter came\n",
       "out everyone has been enraptured by her? They say she is amazingly\n",
       "beautiful.</span>\"\n",
       "<p></p>\n",
       "<span class=\"green\">The prince</span> bowed to signify his respect and gratitude.\n",
       "<p></p>\n",
       "\"<span class=\"red\">I often think,</span>\" she continued after a short pause, drawing nearer\n",
       "to the prince and smiling amiably at him as if to show that\n",
       "political and social topics were ended and the time had come for\n",
       "intimate conversation- \"<span class=\"red\">I often think how unfairly sometimes the\n",
       "joys of life are distributed. Why has fate given you two such splendid\n",
       "children? I don't speak of <span class=\"green\">Anatole</span>, your youngest. I don't like\n",
       "him,</span>\" she added in a tone admitting of no rejoinder and raising her\n",
       "eyebrows. \"<span class=\"red\">Two such charming children. And really you appreciate\n",
       "them less than anyone, and so you don't deserve to have them.</span>\"\n",
       "<p></p>\n",
       "And she smiled her ecstatic smile.\n",
       "<p></p>\n",
       "\"<span class=\"red\">I can't help it,</span>\" said <span class=\"green\">the prince</span>. \"<span class=\"red\">Lavater would have said I\n",
       "lack the bump of paternity.</span>\"\n",
       "<p></p>\n",
       "\"<span class=\"red\">Don't joke; I mean to have a serious talk with you. Do you know I\n",
       "am dissatisfied with your younger son? Between ourselves</span>\" (and her\n",
       "face assumed its melancholy expression), \"<span class=\"red\">he was mentioned at Her\n",
       "Majesty's and you were pitied....</span>\"\n",
       "<p></p>\n",
       "<span class=\"green\">The prince</span> answered nothing, but she looked at him significantly,\n",
       "awaiting a reply. He frowned.\n",
       "<p></p>\n",
       "\"<span class=\"red\">What would you have me do?</span>\" he said at last. \"<span class=\"red\">You know I did all\n",
       "a father could for their education, and they have both turned out\n",
       "fools. Hippolyte is at least a quiet fool, but Anatole is an active\n",
       "one. That is the only difference between them.</span>\" He said this smiling\n",
       "in a way more natural and animated than usual, so that the wrinkles\n",
       "round his mouth very clearly revealed something unexpectedly coarse\n",
       "and unpleasant.\n",
       "<p></p>\n",
       "\"<span class=\"red\">And why are children born to such men as you? If you were not a\n",
       "father there would be nothing I could reproach you with,</span>\" said <span class=\"green\">Anna\n",
       "Pavlovna</span>, looking up pensively.\n",
       "<p></p>\n",
       "\"<span class=\"red\">I am your faithful slave and to you alone I can confess that my\n",
       "children are the bane of my life. It is the cross I have to bear. That\n",
       "is how I explain it to myself. It can't be helped!</span>\"\n",
       "<p></p>\n",
       "He said no more, but expressed his resignation to cruel fate by a\n",
       "gesture. <span class=\"green\">Anna Pavlovna</span> meditated.\n",
       "</div>\n",
       "</body>\n",
       "</html>"
      ]
     },
     "execution_count": 39,
     "metadata": {},
     "output_type": "execute_result"
    }
   ],
   "source": [
    "bs"
   ]
  },
  {
   "cell_type": "code",
   "execution_count": 40,
   "metadata": {},
   "outputs": [
    {
     "name": "stdout",
     "output_type": "stream",
     "text": [
      "7\n"
     ]
    }
   ],
   "source": [
    "print(len(bs.find_all(text='the prince'))) # this method is used to find the number of times a string occurs in a document"
   ]
  },
  {
   "cell_type": "code",
   "execution_count": 41,
   "metadata": {},
   "outputs": [
    {
     "name": "stdout",
     "output_type": "stream",
     "text": [
      "[]\n"
     ]
    }
   ],
   "source": [
    "title = bs.find_all(id = 'title', class_ = 'text')\n",
    "print(title)"
   ]
  },
  {
   "cell_type": "code",
   "execution_count": 42,
   "metadata": {},
   "outputs": [
    {
     "data": {
      "text/plain": [
       "<html>\n",
       "<head>\n",
       "<style>\n",
       "img{\n",
       "\twidth:75px;\n",
       "}\n",
       "table{\n",
       "\twidth:50%;\n",
       "}\n",
       "td{\n",
       "\tmargin:10px;\n",
       "\tpadding:10px;\n",
       "}\n",
       ".wrapper{\n",
       "\twidth:800px;\n",
       "}\n",
       ".excitingNote{\n",
       "\tfont-style:italic;\n",
       "\tfont-weight:bold;\n",
       "}\n",
       "</style>\n",
       "</head>\n",
       "<body>\n",
       "<div id=\"wrapper\">\n",
       "<img src=\"../img/gifts/logo.jpg\" style=\"float:left;\"/>\n",
       "<h1>Totally Normal Gifts</h1>\n",
       "<div id=\"content\">Here is a collection of totally normal, totally reasonable gifts that your friends are sure to love! Our collection is\n",
       "hand-curated by well-paid, free-range Tibetan monks.<p>\n",
       "We haven't figured out how to make online shopping carts yet, but you can send us a check to:<br/>\n",
       "123 Main St.<br/>\n",
       "Abuja, Nigeria\n",
       "We will then send your totally amazing gift, pronto! Please include an extra $5.00 for gift wrapping.</p></div>\n",
       "<table id=\"giftList\">\n",
       "<tr><th>\n",
       "Item Title\n",
       "</th><th>\n",
       "Description\n",
       "</th><th>\n",
       "Cost\n",
       "</th><th>\n",
       "Image\n",
       "</th></tr>\n",
       "<tr class=\"gift\" id=\"gift1\"><td>\n",
       "Vegetable Basket\n",
       "</td><td>\n",
       "This vegetable basket is the perfect gift for your health conscious (or overweight) friends!\n",
       "<span class=\"excitingNote\">Now with super-colorful bell peppers!</span>\n",
       "</td><td>\n",
       "$15.00\n",
       "</td><td>\n",
       "<img src=\"../img/gifts/img1.jpg\"/>\n",
       "</td></tr>\n",
       "<tr class=\"gift\" id=\"gift2\"><td>\n",
       "Russian Nesting Dolls\n",
       "</td><td>\n",
       "Hand-painted by trained monkeys, these exquisite dolls are priceless! And by \"priceless,\" we mean \"extremely expensive\"! <span class=\"excitingNote\">8 entire dolls per set! Octuple the presents!</span>\n",
       "</td><td>\n",
       "$10,000.52\n",
       "</td><td>\n",
       "<img src=\"../img/gifts/img2.jpg\"/>\n",
       "</td></tr>\n",
       "<tr class=\"gift\" id=\"gift3\"><td>\n",
       "Fish Painting\n",
       "</td><td>\n",
       "If something seems fishy about this painting, it's because it's a fish! <span class=\"excitingNote\">Also hand-painted by trained monkeys!</span>\n",
       "</td><td>\n",
       "$10,005.00\n",
       "</td><td>\n",
       "<img src=\"../img/gifts/img3.jpg\"/>\n",
       "</td></tr>\n",
       "<tr class=\"gift\" id=\"gift4\"><td>\n",
       "Dead Parrot\n",
       "</td><td>\n",
       "This is an ex-parrot! <span class=\"excitingNote\">Or maybe he's only resting?</span>\n",
       "</td><td>\n",
       "$0.50\n",
       "</td><td>\n",
       "<img src=\"../img/gifts/img4.jpg\"/>\n",
       "</td></tr>\n",
       "<tr class=\"gift\" id=\"gift5\"><td>\n",
       "Mystery Box\n",
       "</td><td>\n",
       "If you love suprises, this mystery box is for you! Do not place on light-colored surfaces. May cause oil staining. <span class=\"excitingNote\">Keep your friends guessing!</span>\n",
       "</td><td>\n",
       "$1.50\n",
       "</td><td>\n",
       "<img src=\"../img/gifts/img6.jpg\"/>\n",
       "</td></tr>\n",
       "</table>\n",
       "\n",
       "<div id=\"footer\">\n",
       "© Totally Normal Gifts, Inc. <br/>\n",
       "+234 (617) 863-0736\n",
       "</div>\n",
       "</div>\n",
       "</body>\n",
       "</html>"
      ]
     },
     "execution_count": 42,
     "metadata": {},
     "output_type": "execute_result"
    }
   ],
   "source": [
    "shop = urlopen(url=\"http://www.pythonscraping.com/pages/page3.html\")\n",
    "bs = BeautifulSoup(shop, 'html.parser')\n",
    "bs\n"
   ]
  },
  {
   "cell_type": "code",
   "execution_count": 43,
   "metadata": {},
   "outputs": [
    {
     "name": "stdout",
     "output_type": "stream",
     "text": [
      "\n",
      "\n",
      "<tr><th>\n",
      "Item Title\n",
      "</th><th>\n",
      "Description\n",
      "</th><th>\n",
      "Cost\n",
      "</th><th>\n",
      "Image\n",
      "</th></tr>\n",
      "\n",
      "\n",
      "<tr class=\"gift\" id=\"gift1\"><td>\n",
      "Vegetable Basket\n",
      "</td><td>\n",
      "This vegetable basket is the perfect gift for your health conscious (or overweight) friends!\n",
      "<span class=\"excitingNote\">Now with super-colorful bell peppers!</span>\n",
      "</td><td>\n",
      "$15.00\n",
      "</td><td>\n",
      "<img src=\"../img/gifts/img1.jpg\"/>\n",
      "</td></tr>\n",
      "\n",
      "\n",
      "<tr class=\"gift\" id=\"gift2\"><td>\n",
      "Russian Nesting Dolls\n",
      "</td><td>\n",
      "Hand-painted by trained monkeys, these exquisite dolls are priceless! And by \"priceless,\" we mean \"extremely expensive\"! <span class=\"excitingNote\">8 entire dolls per set! Octuple the presents!</span>\n",
      "</td><td>\n",
      "$10,000.52\n",
      "</td><td>\n",
      "<img src=\"../img/gifts/img2.jpg\"/>\n",
      "</td></tr>\n",
      "\n",
      "\n",
      "<tr class=\"gift\" id=\"gift3\"><td>\n",
      "Fish Painting\n",
      "</td><td>\n",
      "If something seems fishy about this painting, it's because it's a fish! <span class=\"excitingNote\">Also hand-painted by trained monkeys!</span>\n",
      "</td><td>\n",
      "$10,005.00\n",
      "</td><td>\n",
      "<img src=\"../img/gifts/img3.jpg\"/>\n",
      "</td></tr>\n",
      "\n",
      "\n",
      "<tr class=\"gift\" id=\"gift4\"><td>\n",
      "Dead Parrot\n",
      "</td><td>\n",
      "This is an ex-parrot! <span class=\"excitingNote\">Or maybe he's only resting?</span>\n",
      "</td><td>\n",
      "$0.50\n",
      "</td><td>\n",
      "<img src=\"../img/gifts/img4.jpg\"/>\n",
      "</td></tr>\n",
      "\n",
      "\n",
      "<tr class=\"gift\" id=\"gift5\"><td>\n",
      "Mystery Box\n",
      "</td><td>\n",
      "If you love suprises, this mystery box is for you! Do not place on light-colored surfaces. May cause oil staining. <span class=\"excitingNote\">Keep your friends guessing!</span>\n",
      "</td><td>\n",
      "$1.50\n",
      "</td><td>\n",
      "<img src=\"../img/gifts/img6.jpg\"/>\n",
      "</td></tr>\n",
      "\n",
      "\n"
     ]
    }
   ],
   "source": [
    "# using children tag\n",
    "\n",
    "for child in bs.find('table', {'id':'giftList'}).children:\n",
    "    print(child)"
   ]
  },
  {
   "cell_type": "code",
   "execution_count": 44,
   "metadata": {},
   "outputs": [
    {
     "name": "stdout",
     "output_type": "stream",
     "text": [
      "\n",
      "\n",
      "<tr class=\"gift\" id=\"gift1\"><td>\n",
      "Vegetable Basket\n",
      "</td><td>\n",
      "This vegetable basket is the perfect gift for your health conscious (or overweight) friends!\n",
      "<span class=\"excitingNote\">Now with super-colorful bell peppers!</span>\n",
      "</td><td>\n",
      "$15.00\n",
      "</td><td>\n",
      "<img src=\"../img/gifts/img1.jpg\"/>\n",
      "</td></tr>\n",
      "\n",
      "\n",
      "<tr class=\"gift\" id=\"gift2\"><td>\n",
      "Russian Nesting Dolls\n",
      "</td><td>\n",
      "Hand-painted by trained monkeys, these exquisite dolls are priceless! And by \"priceless,\" we mean \"extremely expensive\"! <span class=\"excitingNote\">8 entire dolls per set! Octuple the presents!</span>\n",
      "</td><td>\n",
      "$10,000.52\n",
      "</td><td>\n",
      "<img src=\"../img/gifts/img2.jpg\"/>\n",
      "</td></tr>\n",
      "\n",
      "\n",
      "<tr class=\"gift\" id=\"gift3\"><td>\n",
      "Fish Painting\n",
      "</td><td>\n",
      "If something seems fishy about this painting, it's because it's a fish! <span class=\"excitingNote\">Also hand-painted by trained monkeys!</span>\n",
      "</td><td>\n",
      "$10,005.00\n",
      "</td><td>\n",
      "<img src=\"../img/gifts/img3.jpg\"/>\n",
      "</td></tr>\n",
      "\n",
      "\n",
      "<tr class=\"gift\" id=\"gift4\"><td>\n",
      "Dead Parrot\n",
      "</td><td>\n",
      "This is an ex-parrot! <span class=\"excitingNote\">Or maybe he's only resting?</span>\n",
      "</td><td>\n",
      "$0.50\n",
      "</td><td>\n",
      "<img src=\"../img/gifts/img4.jpg\"/>\n",
      "</td></tr>\n",
      "\n",
      "\n",
      "<tr class=\"gift\" id=\"gift5\"><td>\n",
      "Mystery Box\n",
      "</td><td>\n",
      "If you love suprises, this mystery box is for you! Do not place on light-colored surfaces. May cause oil staining. <span class=\"excitingNote\">Keep your friends guessing!</span>\n",
      "</td><td>\n",
      "$1.50\n",
      "</td><td>\n",
      "<img src=\"../img/gifts/img6.jpg\"/>\n",
      "</td></tr>\n",
      "\n",
      "\n"
     ]
    }
   ],
   "source": [
    "for sibling in bs.find('table', {'id':'giftList'}).tr.next_siblings:\n",
    "    print(sibling)"
   ]
  },
  {
   "cell_type": "code",
   "execution_count": 45,
   "metadata": {},
   "outputs": [
    {
     "name": "stdout",
     "output_type": "stream",
     "text": [
      "\n",
      "$15.00\n",
      "\n"
     ]
    }
   ],
   "source": [
    "print(bs.find('img', {'src':'../img/gifts/img1.jpg'}).parent.previous_sibling.get_text())"
   ]
  },
  {
   "cell_type": "markdown",
   "metadata": {},
   "source": [
    "## Regular Expressions and Beautiful Soup"
   ]
  },
  {
   "cell_type": "code",
   "execution_count": 46,
   "metadata": {},
   "outputs": [],
   "source": [
    "import re\n",
    "html = urlopen(url=\"http://www.pythonscraping.com/pages/page3.html\")\n",
    "bs = BeautifulSoup(html, 'html.parser')\n",
    "# images = bs.find_all(tag='img', \n",
    "#                      attrs={'src':re.compile('\\.\\.\\/img\\/gifts\\/img.*\\.jpg')})\n",
    "\n",
    "# for image in images:\n",
    "#     print(image['src'])"
   ]
  },
  {
   "cell_type": "code",
   "execution_count": 48,
   "metadata": {},
   "outputs": [
    {
     "name": "stdout",
     "output_type": "stream",
     "text": [
      "../img/gifts/img1.jpg\n",
      "../img/gifts/img2.jpg\n",
      "../img/gifts/img3.jpg\n",
      "../img/gifts/img4.jpg\n",
      "../img/gifts/img6.jpg\n"
     ]
    }
   ],
   "source": [
    "imgs = bs.find_all('img', {'src':re.compile('\\.\\.\\/img\\/gifts\\/img.*\\.jpg')})\n",
    "for img in imgs:\n",
    "    print(img['src'])"
   ]
  },
  {
   "cell_type": "code",
   "execution_count": 50,
   "metadata": {},
   "outputs": [
    {
     "data": {
      "text/plain": [
       "{'src': '../img/gifts/logo.jpg', 'style': 'float:left;'}"
      ]
     },
     "execution_count": 50,
     "metadata": {},
     "output_type": "execute_result"
    }
   ],
   "source": [
    "bs.img.attrs"
   ]
  },
  {
   "cell_type": "code",
   "execution_count": 52,
   "metadata": {},
   "outputs": [
    {
     "data": {
      "text/plain": [
       "[<img src=\"../img/gifts/logo.jpg\" style=\"float:left;\"/>,\n",
       " <tr class=\"gift\" id=\"gift1\"><td>\n",
       " Vegetable Basket\n",
       " </td><td>\n",
       " This vegetable basket is the perfect gift for your health conscious (or overweight) friends!\n",
       " <span class=\"excitingNote\">Now with super-colorful bell peppers!</span>\n",
       " </td><td>\n",
       " $15.00\n",
       " </td><td>\n",
       " <img src=\"../img/gifts/img1.jpg\"/>\n",
       " </td></tr>,\n",
       " <tr class=\"gift\" id=\"gift2\"><td>\n",
       " Russian Nesting Dolls\n",
       " </td><td>\n",
       " Hand-painted by trained monkeys, these exquisite dolls are priceless! And by \"priceless,\" we mean \"extremely expensive\"! <span class=\"excitingNote\">8 entire dolls per set! Octuple the presents!</span>\n",
       " </td><td>\n",
       " $10,000.52\n",
       " </td><td>\n",
       " <img src=\"../img/gifts/img2.jpg\"/>\n",
       " </td></tr>,\n",
       " <tr class=\"gift\" id=\"gift3\"><td>\n",
       " Fish Painting\n",
       " </td><td>\n",
       " If something seems fishy about this painting, it's because it's a fish! <span class=\"excitingNote\">Also hand-painted by trained monkeys!</span>\n",
       " </td><td>\n",
       " $10,005.00\n",
       " </td><td>\n",
       " <img src=\"../img/gifts/img3.jpg\"/>\n",
       " </td></tr>,\n",
       " <tr class=\"gift\" id=\"gift4\"><td>\n",
       " Dead Parrot\n",
       " </td><td>\n",
       " This is an ex-parrot! <span class=\"excitingNote\">Or maybe he's only resting?</span>\n",
       " </td><td>\n",
       " $0.50\n",
       " </td><td>\n",
       " <img src=\"../img/gifts/img4.jpg\"/>\n",
       " </td></tr>,\n",
       " <tr class=\"gift\" id=\"gift5\"><td>\n",
       " Mystery Box\n",
       " </td><td>\n",
       " If you love suprises, this mystery box is for you! Do not place on light-colored surfaces. May cause oil staining. <span class=\"excitingNote\">Keep your friends guessing!</span>\n",
       " </td><td>\n",
       " $1.50\n",
       " </td><td>\n",
       " <img src=\"../img/gifts/img6.jpg\"/>\n",
       " </td></tr>]"
      ]
     },
     "execution_count": 52,
     "metadata": {},
     "output_type": "execute_result"
    }
   ],
   "source": [
    "bs.find_all(lambda tag: len(tag.attrs) ==2) # will find all tags with two attributes"
   ]
  }
 ],
 "metadata": {
  "kernelspec": {
   "display_name": "Python 3.6.13 ('virtenv')",
   "language": "python",
   "name": "python3"
  },
  "language_info": {
   "codemirror_mode": {
    "name": "ipython",
    "version": 3
   },
   "file_extension": ".py",
   "mimetype": "text/x-python",
   "name": "python",
   "nbconvert_exporter": "python",
   "pygments_lexer": "ipython3",
   "version": "3.6.13"
  },
  "orig_nbformat": 4,
  "vscode": {
   "interpreter": {
    "hash": "3455c3e01b54f3cc2c0649dbf09131ea98a16a06394a1428250b9d6067447cab"
   }
  }
 },
 "nbformat": 4,
 "nbformat_minor": 2
}
